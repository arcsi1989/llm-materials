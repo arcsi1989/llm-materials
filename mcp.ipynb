{
 "cells": [
  {
   "cell_type": "code",
   "execution_count": null,
   "id": "45075716-3f47-4414-90a7-fffad4b945d5",
   "metadata": {},
   "outputs": [],
   "source": [
    "!pwd"
   ]
  },
  {
   "cell_type": "code",
   "execution_count": null,
   "id": "e2b40c3e-e39d-43d7-9dae-561d021d12c6",
   "metadata": {},
   "outputs": [],
   "source": [
    "from dotenv import load_dotenv\n",
    "import os\n",
    "\n",
    "from langchain_openai import AzureChatOpenAI\n",
    "from langchain_mcp_adapters.client import MultiServerMCPClient\n",
    "from langgraph.prebuilt import create_react_agent\n",
    "\n",
    "load_dotenv(override=True)\n",
    "\n",
    "model = AzureChatOpenAI(\n",
    "    azure_endpoint = os.getenv('AZURE_OPENAI_ENDPOINT'),\n",
    "    api_version = os.getenv('AZURE_OPENAI_API_VERSION'),\n",
    "    api_key = os.getenv('AZURE_OPENAI_API_KEY'),\n",
    "    deployment_name = os.getenv('AZURE_OPENAI_DEPLOYMENT_NAME'),\n",
    "    # callbacks=[human_intervention_handler]\n",
    ")\n",
    "\n",
    "## server parameters\n",
    "server_params={\n",
    "        \"math\": {\n",
    "            \"command\": \"python\",\n",
    "            # Make sure to update to the full absolute path to your math_server.py file\n",
    "            \"args\": [\"/Users/aronhorvath/Documents/projects/interviews/ibusiness/mcp_tutorial/servers/math_server.py\"],\n",
    "            \"transport\": \"stdio\",\n",
    "        },\n",
    "        \"weather\": {\n",
    "            \"command\": \"python\",\n",
    "            # Make sure to update to the full absolute path to your weather_server.py file\n",
    "            \"args\": [\"/Users/aronhorvath/Documents/projects/interviews/ibusiness/mcp_tutorial/servers/weather_server.py\"],\n",
    "            \"transport\": \"stdio\",\n",
    "        }\n",
    "    }\n",
    "\n",
    "client = MultiServerMCPClient(server_params)\n",
    "tools = await client.get_tools()\n",
    "agent = create_react_agent(model, tools)\n",
    "math_response = await agent.ainvoke({\"messages\": \"what's (3 + 5) x 12?\"})\n",
    "weather_response = await agent.ainvoke({\"messages\": \"what is the weather in nyc?\"})\n",
    "print(math_response.messages[-1])"
   ]
  },
  {
   "cell_type": "code",
   "execution_count": null,
   "id": "947ae021-66e7-44b3-8740-7ca81d1ffb5a",
   "metadata": {},
   "outputs": [],
   "source": [
    "math_response['messages'][-1].content"
   ]
  },
  {
   "cell_type": "code",
   "execution_count": null,
   "id": "7a565f4e-6973-46df-bf3c-20f4675c6c5a",
   "metadata": {},
   "outputs": [],
   "source": [
    "weather_response['messages'][-1].content"
   ]
  },
  {
   "cell_type": "code",
   "execution_count": null,
   "id": "10ba65e6-d9c0-4512-9e19-c152b35dadce",
   "metadata": {},
   "outputs": [],
   "source": []
  }
 ],
 "metadata": {
  "kernelspec": {
   "display_name": "Python 3 (ipykernel)",
   "language": "python",
   "name": "python3"
  },
  "language_info": {
   "codemirror_mode": {
    "name": "ipython",
    "version": 3
   },
   "file_extension": ".py",
   "mimetype": "text/x-python",
   "name": "python",
   "nbconvert_exporter": "python",
   "pygments_lexer": "ipython3",
   "version": "3.12.7"
  }
 },
 "nbformat": 4,
 "nbformat_minor": 5
}
